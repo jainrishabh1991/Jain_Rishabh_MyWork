{
 "cells": [
  {
   "cell_type": "code",
   "execution_count": 1,
   "metadata": {
    "collapsed": false
   },
   "outputs": [],
   "source": [
    "# import some Python dependencies\n",
    "from urllib.request import urlopen, Request\n",
    "import urllib.request\n",
    "import json\n",
    "import datetime\n",
    "import csv\n",
    "import time\n",
    "import codecs"
   ]
  },
  {
   "cell_type": "code",
   "execution_count": 2,
   "metadata": {
    "collapsed": true
   },
   "outputs": [],
   "source": [
    "\n",
    "# Since the code output in this notebook leaks the app_secret,\n",
    "# it has been reset by the time you read this.\n",
    "\n",
    "app_id = \"274351173016867\"\n",
    "app_secret = \"ec2e4a03d7cfda5d4aa1b321450de699\" # DO NOT SHARE WITH ANYONE!\n",
    "\n",
    "access_token = app_id + \"|\" + app_secret"
   ]
  },
  {
   "cell_type": "code",
   "execution_count": 3,
   "metadata": {
    "collapsed": true
   },
   "outputs": [],
   "source": [
    "page_id = 'AmazonFashion/posts/'"
   ]
  },
  {
   "cell_type": "code",
   "execution_count": 89,
   "metadata": {
    "collapsed": false
   },
   "outputs": [],
   "source": [
    "def testFacebookPageData(page_id, access_token):\n",
    "    \n",
    "    # construct the URL string\n",
    "    base = \"https://graph.facebook.com/v2.4\"\n",
    "    node = \"/\" + page_id\n",
    "    parameters = \"/?access_token=%s\" % access_token\n",
    "    url = base + node + parameters\n",
    "    # retrieve data\n",
    "    req = urllib.request.Request(url)\n",
    "    response = urllib.request.urlopen(req)\n",
    "    reader = codecs.getreader(\"utf-8\")\n",
    "    data=json.load(reader(response))\n",
    "#     data = json.loads(response.read())\n",
    "    print (json.dumps(data, indent=4, sort_keys=True))\n",
    "    \n",
    "\n",
    "reader = codecs.getreader(\"utf-8\")"
   ]
  },
  {
   "cell_type": "code",
   "execution_count": 90,
   "metadata": {
    "collapsed": false,
    "scrolled": true
   },
   "outputs": [
    {
     "name": "stdout",
     "output_type": "stream",
     "text": [
      "{\n",
      "    \"data\": [\n",
      "        {\n",
      "            \"created_time\": \"2017-03-27T22:12:56+0000\",\n",
      "            \"id\": \"151871258163795_1803410819676489\",\n",
      "            \"message\": \"Why bloom into spring when you can #BoomIntoSpring? We\\u2019re dancing our way into this one-shoulder piece and want to see your favorite spring dresses. Share with us in a Boomerang post on Instagram using the hashtag #BoomIntoSpring and shop our Spring Dress Guide here: http://amzn.to/2nZKlF3\"\n",
      "        },\n",
      "        {\n",
      "            \"created_time\": \"2017-03-26T16:23:00+0000\",\n",
      "            \"id\": \"151871258163795_1797086736975564\",\n",
      "            \"message\": \"Need some motivation to hit the gym today? Looking cute (and \\ud83c\\udf55) will get you there. http://amzn.to/2nbwQPM\"\n",
      "        },\n",
      "        {\n",
      "            \"created_time\": \"2017-03-25T16:18:00+0000\",\n",
      "            \"id\": \"151871258163795_1797070273643877\",\n",
      "            \"message\": \"Get swept away with our favorite romantic dresses. http://amzn.to/2mwyezl\"\n",
      "        },\n",
      "        {\n",
      "            \"created_time\": \"2017-03-24T16:04:00+0000\",\n",
      "            \"id\": \"151871258163795_1797066440310927\",\n",
      "            \"message\": \"Ready to win your spring shoe game? Tag your sole mate now. http://amzn.to/2o92iNB\"\n",
      "        },\n",
      "        {\n",
      "            \"created_time\": \"2017-03-23T15:46:30+0000\",\n",
      "            \"id\": \"151871258163795_1797053303645574\",\n",
      "            \"message\": \"Layer like a pro with our perfect, lightweight jackets. http://amzn.to/2ngN63I\"\n",
      "        },\n",
      "        {\n",
      "            \"created_time\": \"2017-03-22T15:45:43+0000\",\n",
      "            \"id\": \"151871258163795_1795642187120019\",\n",
      "            \"message\": \"Shop now: http://amzn.to/2neESJO\",\n",
      "            \"story\": \"Amazon.com/Fashion updated their cover photo.\"\n",
      "        },\n",
      "        {\n",
      "            \"created_time\": \"2017-03-22T13:49:23+0000\",\n",
      "            \"id\": \"151871258163795_1795490790468492\",\n",
      "            \"message\": \"Who says a floral ASTR the label dress can't have edge? Especially when paired with an army green Levi's jacket and sleek The Frye Company booties. Shop the look: http://amzn.to/2nRAmyD\"\n",
      "        },\n",
      "        {\n",
      "            \"created_time\": \"2017-03-21T17:58:10+0000\",\n",
      "            \"id\": \"151871258163795_1794198730597698\",\n",
      "            \"message\": \"Want a dress you can wear winter, spring, summer or fall? All you have to do is click (the link). \\nBlack Halo printed dress: http://amzn.to/2n4D8AJ\\nBlack Halo long sleeve dress: http://amzn.to/2mR9U7w\"\n",
      "        },\n",
      "        {\n",
      "            \"created_time\": \"2017-03-20T19:20:36+0000\",\n",
      "            \"id\": \"151871258163795_1792699200747651\",\n",
      "            \"message\": \"Is there anything more fun than unboxing your new-season wardrobe? Shop our spring fashion now. http://amzn.to/2neESJO \\n#AmazonUnboxed #StyleDelivered\"\n",
      "        },\n",
      "        {\n",
      "            \"created_time\": \"2017-03-19T17:15:24+0000\",\n",
      "            \"id\": \"151871258163795_1791266954224209\",\n",
      "            \"message\": \"Sunday just got a lot more stylish.\"\n",
      "        },\n",
      "        {\n",
      "            \"created_time\": \"2017-03-18T14:30:01+0000\",\n",
      "            \"id\": \"151871258163795_1788511341166437\",\n",
      "            \"message\": \"A + B = chic. This matching set from Paris Sunday adds up to effortless style. \\nParis Sunday set: http://amzn.to/2mX8ryH\\nDolce Vita mules: http://amzn.to/2nMFkvF\\nCalvin Klein satchel: http://amzn.to/2nzzr5P\\nNoisy may bomber jacket: http://amzn.to/2mQtsJG\"\n",
      "        },\n",
      "        {\n",
      "            \"created_time\": \"2017-03-17T14:04:09+0000\",\n",
      "            \"id\": \"151871258163795_1788509721166599\",\n",
      "            \"message\": \"Instant polish\\u2014the suits that make you look good every day of the week.\"\n",
      "        },\n",
      "        {\n",
      "            \"created_time\": \"2017-03-16T16:24:43+0000\",\n",
      "            \"id\": \"151871258163795_1787374797946758\",\n",
      "            \"message\": \"On the go from day to night? Lark & Ro\\u2019s versatile essentials will get you there. http://amzn.to/2mwtoxc\"\n",
      "        },\n",
      "        {\n",
      "            \"created_time\": \"2017-03-15T14:09:00+0000\",\n",
      "            \"id\": \"151871258163795_1786031321414439\",\n",
      "            \"message\": \"Timeless charm: Classic watches you'll take a shine to. http://amzn.to/2mO1f8h Michael Kors Fossil\"\n",
      "        },\n",
      "        {\n",
      "            \"created_time\": \"2017-03-14T14:03:15+0000\",\n",
      "            \"id\": \"151871258163795_1784785824872322\",\n",
      "            \"message\": \"A chic alternative to black?\"\n",
      "        },\n",
      "        {\n",
      "            \"created_time\": \"2017-03-13T13:13:14+0000\",\n",
      "            \"id\": \"151871258163795_1783458308338407\",\n",
      "            \"message\": \"Easy, elevated, and statement-making\\u2014meet the dresses we can\\u2019t live without. http://amzn.to/2miZoWj\"\n",
      "        },\n",
      "        {\n",
      "            \"created_time\": \"2017-03-12T16:40:00+0000\",\n",
      "            \"id\": \"151871258163795_1778247665526138\",\n",
      "            \"message\": \"Sunday just got a lot more stylish. http://amzn.to/2njMkzV\"\n",
      "        },\n",
      "        {\n",
      "            \"created_time\": \"2017-03-11T21:32:49+0000\",\n",
      "            \"id\": \"151871258163795_1780940658590172\",\n",
      "            \"message\": \"Counting down the days till spring one block heel at a time. Shop these Sigerson Morrison, Dolce Vita, kate spade new york, Rachel Comey, and Loeffler Randall shoes now: http://amzn.to/2mFUUfu\"\n",
      "        },\n",
      "        {\n",
      "            \"created_time\": \"2017-03-10T17:35:01+0000\",\n",
      "            \"id\": \"151871258163795_1778246008859637\",\n",
      "            \"message\": \"Your search for the ultimate, statement-making Alexis Bittar bangles stops here. http://amzn.to/2mquHB2\"\n",
      "        },\n",
      "        {\n",
      "            \"created_time\": \"2017-03-09T13:36:46+0000\",\n",
      "            \"id\": \"151871258163795_1777751495575755\",\n",
      "            \"message\": \"Dreaming of ditching those boots? Shop these spring go-tos.\\nhttp://amzn.to/2n2YDEO\"\n",
      "        },\n",
      "        {\n",
      "            \"created_time\": \"2017-03-08T19:28:44+0000\",\n",
      "            \"id\": \"151871258163795_1776565975694307\",\n",
      "            \"message\": \"Join us in celebrating International Women's Day and hear the stories of women that inspire us to #BeBoldForChange: http://amzn.to/2mUTr5E #IWD2017\",\n",
      "            \"story\": \"Amazon.com/Fashion shared Amazon.com's video.\"\n",
      "        },\n",
      "        {\n",
      "            \"created_time\": \"2017-03-08T15:28:54+0000\",\n",
      "            \"id\": \"151871258163795_1776304739053764\",\n",
      "            \"message\": \"Let a lighter, brighter watch show you a good time. http://amzn.to/2lDRrPi\"\n",
      "        },\n",
      "        {\n",
      "            \"created_time\": \"2017-03-07T16:02:09+0000\",\n",
      "            \"id\": \"151871258163795_1774985665852338\",\n",
      "            \"message\": \"Pretty pink handbags to carry you through the week and beyond. http://amzn.to/2mxuVa3\"\n",
      "        },\n",
      "        {\n",
      "            \"created_time\": \"2017-03-06T16:34:26+0000\",\n",
      "            \"id\": \"151871258163795_1773786645972240\",\n",
      "            \"message\": \"Ease into a new week with our not-so-basic blues. http://amzn.to/2mNfT0E\"\n",
      "        },\n",
      "        {\n",
      "            \"created_time\": \"2017-03-05T16:56:00+0000\",\n",
      "            \"id\": \"151871258163795_1768749983142573\",\n",
      "            \"message\": \"Fashion meets function: Hit the streets in this casual, cool style.\\nhttp://amzn.to/2me97zI\"\n",
      "        }\n",
      "    ],\n",
      "    \"paging\": {\n",
      "        \"next\": \"https://graph.facebook.com/v2.8/151871258163795/posts?access_token=274351173016867|ec2e4a03d7cfda5d4aa1b321450de699&limit=25&until=1488732960&__paging_token=enc_AdCWLePzJdzD0oHVPr8Ipo7EcgRfVTR4GRUbOZAohKzwU6ZCniktpzGstzykODoYWwG1JukEouW3qYhvoP77HlwROAdvfENEdKosCWqC1ZCYO1IaAZDZD\",\n",
      "        \"previous\": \"https://graph.facebook.com/v2.8/151871258163795/posts?since=1490652776&access_token=274351173016867|ec2e4a03d7cfda5d4aa1b321450de699&limit=25&__paging_token=enc_AdDIZAxovzH2qDU3XqQLZAWsPO7BVUDSdF04SE0wPdntd75DUtZBNMIcxL94u7mjYHwr1Ro4AZBLOUZBZCnmug41v5Cb7qdnGZBX4BL2woqEyUZAamH9zQZDZD&__previous=1\"\n",
      "    }\n",
      "}\n"
     ]
    }
   ],
   "source": [
    "testFacebookPageData(page_id, access_token)"
   ]
  },
  {
   "cell_type": "code",
   "execution_count": 4,
   "metadata": {
    "collapsed": false
   },
   "outputs": [],
   "source": [
    "def request_until_succeed(url):\n",
    "    req = urllib.request.Request(url)\n",
    "    success = False\n",
    "    while success is False:\n",
    "        try: \n",
    "            response = urllib.request.urlopen(req)\n",
    "            if response.getcode() == 200:\n",
    "                success = True\n",
    "        except Exception as e:\n",
    "            print (e)\n",
    "            time.sleep(5)\n",
    "            \n",
    "            print (\"Error for URL %s: %s\" % (url, datetime.datetime.now()))\n",
    "    reader = codecs.getreader(\"utf-8\")\n",
    "    return reader(response)"
   ]
  },
  {
   "cell_type": "code",
   "execution_count": 5,
   "metadata": {
    "collapsed": false
   },
   "outputs": [],
   "source": [
    "def testFacebookPageFeedData(page_id, access_token):\n",
    "    \n",
    "    # construct the URL string\n",
    "    base = \"https://graph.facebook.com/v2.4\"\n",
    "    node = \"/\" + page_id + \"/feed\" # changed\n",
    "    parameters = \"/?access_token=%s\" % access_token\n",
    "    url = base + node + parameters\n",
    "    \n",
    "    # retrieve data\n",
    "    data = json.load(request_until_succeed(url))\n",
    "    \n",
    "    print (json.dumps(data, indent=4, sort_keys=True))\n",
    "    "
   ]
  },
  {
   "cell_type": "code",
   "execution_count": 7,
   "metadata": {
    "collapsed": false
   },
   "outputs": [],
   "source": [
    " testFacebookPageFeedData(page_id, access_token)"
   ]
  },
  {
   "cell_type": "code",
   "execution_count": 17,
   "metadata": {
    "collapsed": true
   },
   "outputs": [],
   "source": [
    "def getFacebookPageFeedData(page_id, access_token, num_statuses):\n",
    "    \n",
    "    # construct the URL string\n",
    "    base = \"https://graph.facebook.com\"\n",
    "    node = \"/\" + page_id + \"/feed\" \n",
    "    parameters = \"/?fields=message,link,created_time,type,name,id,likes.limit(1).summary(true),comments.limit(1).summary(true),shares&limit=%s&access_token=%s\" % (num_statuses, access_token) # changed\n",
    "    url = base + node + parameters\n",
    "    \n",
    "    # retrieve data\n",
    "    data = json.load(request_until_succeed(url))\n",
    "    \n",
    "    return data\n",
    "    \n",
    "\n"
   ]
  },
  {
   "cell_type": "code",
   "execution_count": 18,
   "metadata": {
    "collapsed": false
   },
   "outputs": [
    {
     "name": "stdout",
     "output_type": "stream",
     "text": [
      "{\n",
      "    \"comments\": {\n",
      "        \"data\": [\n",
      "            {\n",
      "                \"created_time\": \"2017-03-29T01:03:24+0000\",\n",
      "                \"from\": {\n",
      "                    \"id\": \"280335302417507\",\n",
      "                    \"name\": \"Kelsey Slemmons\"\n",
      "                },\n",
      "                \"id\": \"1805068359510735_1805134222837482\",\n",
      "                \"message\": \"LOVE HIM!!! He's soooo good\"\n",
      "            }\n",
      "        ],\n",
      "        \"paging\": {\n",
      "            \"cursors\": {\n",
      "                \"after\": \"WTI5dGJXVnVkRjlqZAFhKemIzSTZANVGd3TlRFek5ESXlNamd6TnpRNE1qb3hORGt3TnpRNU5EQTAZD\",\n",
      "                \"before\": \"WTI5dGJXVnVkRjlqZAFhKemIzSTZANVGd3TlRFek5ESXlNamd6TnpRNE1qb3hORGt3TnpRNU5EQTAZD\"\n",
      "            },\n",
      "            \"next\": \"https://graph.facebook.com/v2.8/151871258163795_1805068359510735/comments?access_token=274351173016867%7Cec2e4a03d7cfda5d4aa1b321450de699&summary=true&limit=1&after=WTI5dGJXVnVkRjlqZAFhKemIzSTZANVGd3TlRFek5ESXlNamd6TnpRNE1qb3hORGt3TnpRNU5EQTAZD\"\n",
      "        },\n",
      "        \"summary\": {\n",
      "            \"can_comment\": false,\n",
      "            \"order\": \"chronological\",\n",
      "            \"total_count\": 5\n",
      "        }\n",
      "    },\n",
      "    \"created_time\": \"2017-03-29T00:58:19+0000\",\n",
      "    \"id\": \"151871258163795_1805068359510735\",\n",
      "    \"likes\": {\n",
      "        \"data\": [\n",
      "            {\n",
      "                \"id\": \"1470063209692877\",\n",
      "                \"name\": \"Jessica Marie\"\n",
      "            }\n",
      "        ],\n",
      "        \"paging\": {\n",
      "            \"cursors\": {\n",
      "                \"after\": \"MTQ3MDA2MzIwOTY5Mjg3NwZDZD\",\n",
      "                \"before\": \"MTQ3MDA2MzIwOTY5Mjg3NwZDZD\"\n",
      "            },\n",
      "            \"next\": \"https://graph.facebook.com/v2.8/151871258163795_1805068359510735/likes?access_token=274351173016867%7Cec2e4a03d7cfda5d4aa1b321450de699&summary=true&limit=1&after=MTQ3MDA2MzIwOTY5Mjg3NwZDZD\"\n",
      "        },\n",
      "        \"summary\": {\n",
      "            \"can_like\": false,\n",
      "            \"has_liked\": false,\n",
      "            \"total_count\": 38\n",
      "        }\n",
      "    },\n",
      "    \"link\": \"https://www.facebook.com/AmazonFashion/videos/1805068359510735/\",\n",
      "    \"message\": \"Get our top picks under $100 from our Spring Dress Guide tonight on Amazon\\u2019s live fashion and beauty show Style Code Live. \\n\\nShop the looks here: http://amzn.to/2o2nt8i\",\n",
      "    \"shares\": {\n",
      "        \"count\": 3\n",
      "    },\n",
      "    \"type\": \"video\"\n",
      "}\n"
     ]
    }
   ],
   "source": [
    "test_status = getFacebookPageFeedData(page_id, access_token, 1)[\"data\"][0]\n",
    "print (json.dumps(test_status, indent=4, sort_keys=True))"
   ]
  },
  {
   "cell_type": "code",
   "execution_count": 19,
   "metadata": {
    "collapsed": false
   },
   "outputs": [
    {
     "name": "stdout",
     "output_type": "stream",
     "text": [
      "('151871258163795_1805068359510735', b'Get our top picks under $100 from our Spring Dress Guide tonight on Amazon\\xe2\\x80\\x99s live fashion and beauty show Style Code Live. \\n\\nShop the looks here: http://amzn.to/2o2nt8i', '', 'video', 'https://www.facebook.com/AmazonFashion/videos/1805068359510735/', '2017-03-28 19:58:19', 38, 5, 3)\n"
     ]
    }
   ],
   "source": [
    "def processFacebookPageFeedStatus(status):\n",
    "    \n",
    "    # The status is now a Python dictionary, so for top-level items,\n",
    "    # we can simply call the key.\n",
    "    \n",
    "    # Additionally, some items may not always exist,\n",
    "    # so must check for existence first\n",
    "    \n",
    "    status_id = status['id']\n",
    "    status_message = '' if 'message' not in status.keys() else status['message'].encode('utf-8')\n",
    "    link_name = '' if 'name' not in status.keys() else status['name'].encode('utf-8')\n",
    "    status_type = status['type']\n",
    "    status_link = '' if 'link' not in status.keys() else status['link']\n",
    "    \n",
    "    \n",
    "    # Time needs special care since a) it's in UTC and\n",
    "    # b) it's not easy to use in statistical programs.\n",
    "    \n",
    "    status_published = datetime.datetime.strptime(status['created_time'],'%Y-%m-%dT%H:%M:%S+0000')\n",
    "    status_published = status_published + datetime.timedelta(hours=-5) # EST\n",
    "    status_published = status_published.strftime('%Y-%m-%d %H:%M:%S') # best time format for spreadsheet programs\n",
    "    \n",
    "    # Nested items require chaining dictionary keys.\n",
    "    \n",
    "    num_likes = 0 if 'likes' not in status.keys() else status['likes']['summary']['total_count']\n",
    "    num_comments = 0 if 'comments' not in status.keys() else status['comments']['summary']['total_count']\n",
    "    num_shares = 0 if 'shares' not in status.keys() else status['shares']['count']\n",
    "    \n",
    "    # return a tuple of all processed data\n",
    "    return (status_id, status_message, link_name, status_type, status_link,\n",
    "           status_published, num_likes, num_comments, num_shares)\n",
    "\n",
    "processed_test_status = processFacebookPageFeedStatus(test_status)\n",
    "print (processed_test_status)"
   ]
  },
  {
   "cell_type": "code",
   "execution_count": 27,
   "metadata": {
    "collapsed": false
   },
   "outputs": [
    {
     "ename": "FileNotFoundError",
     "evalue": "[Errno 2] No such file or directory: 'AmazonFashion/posts/_facebook_statuses.csv'",
     "output_type": "error",
     "traceback": [
      "\u001b[0;31m---------------------------------------------------------------------------\u001b[0m",
      "\u001b[0;31mFileNotFoundError\u001b[0m                         Traceback (most recent call last)",
      "\u001b[0;32m<ipython-input-27-29a9e0fb7446>\u001b[0m in \u001b[0;36m<module>\u001b[0;34m()\u001b[0m\n\u001b[1;32m     32\u001b[0m \u001b[1;33m\u001b[0m\u001b[0m\n\u001b[1;32m     33\u001b[0m \u001b[1;33m\u001b[0m\u001b[0m\n\u001b[0;32m---> 34\u001b[0;31m \u001b[0mscrapeFacebookPageFeedStatus\u001b[0m\u001b[1;33m(\u001b[0m\u001b[0mpage_id\u001b[0m\u001b[1;33m,\u001b[0m \u001b[0maccess_token\u001b[0m\u001b[1;33m)\u001b[0m\u001b[1;33m\u001b[0m\u001b[0m\n\u001b[0m",
      "\u001b[0;32m<ipython-input-27-29a9e0fb7446>\u001b[0m in \u001b[0;36mscrapeFacebookPageFeedStatus\u001b[0;34m(page_id, access_token)\u001b[0m\n\u001b[1;32m      1\u001b[0m \u001b[1;32mdef\u001b[0m \u001b[0mscrapeFacebookPageFeedStatus\u001b[0m\u001b[1;33m(\u001b[0m\u001b[0mpage_id\u001b[0m\u001b[1;33m,\u001b[0m \u001b[0maccess_token\u001b[0m\u001b[1;33m)\u001b[0m\u001b[1;33m:\u001b[0m\u001b[1;33m\u001b[0m\u001b[0m\n\u001b[0;32m----> 2\u001b[0;31m     \u001b[1;32mwith\u001b[0m \u001b[0mopen\u001b[0m\u001b[1;33m(\u001b[0m\u001b[1;34m'%s_facebook_statuses.csv'\u001b[0m \u001b[1;33m%\u001b[0m \u001b[0mpage_id\u001b[0m\u001b[1;33m,\u001b[0m \u001b[1;34m'wb'\u001b[0m\u001b[1;33m)\u001b[0m \u001b[1;32mas\u001b[0m \u001b[0mfile\u001b[0m\u001b[1;33m:\u001b[0m\u001b[1;33m\u001b[0m\u001b[0m\n\u001b[0m\u001b[1;32m      3\u001b[0m         \u001b[0mw\u001b[0m \u001b[1;33m=\u001b[0m \u001b[0mcsv\u001b[0m\u001b[1;33m.\u001b[0m\u001b[0mwriter\u001b[0m\u001b[1;33m(\u001b[0m\u001b[0mfile\u001b[0m\u001b[1;33m)\u001b[0m\u001b[1;33m\u001b[0m\u001b[0m\n\u001b[1;32m      4\u001b[0m         w.writerow([\"status_id\", \"status_message\", \"link_name\", \"status_type\", \"status_link\",\n\u001b[1;32m      5\u001b[0m            \"status_published\", \"num_likes\", \"num_comments\", \"num_shares\"])\n",
      "\u001b[0;31mFileNotFoundError\u001b[0m: [Errno 2] No such file or directory: 'AmazonFashion/posts/_facebook_statuses.csv'"
     ]
    }
   ],
   "source": [
    "def scrapeFacebookPageFeedStatus(page_id, access_token):\n",
    "    with open('%s_facebook_statuses.csv' % page_id, 'wb') as file:\n",
    "        w = csv.writer(file)\n",
    "        w.writerow([\"status_id\", \"status_message\", \"link_name\", \"status_type\", \"status_link\",\n",
    "           \"status_published\", \"num_likes\", \"num_comments\", \"num_shares\"])\n",
    "        \n",
    "        has_next_page = True\n",
    "        num_processed = 0   # keep a count on how many we've processed\n",
    "        scrape_starttime = datetime.datetime.now()\n",
    "        \n",
    "        print (\"Scraping %s Facebook Page: %s\\n\" % (page_id, scrape_starttime))\n",
    "        \n",
    "        statuses = getFacebookPageFeedData(page_id, access_token, 100)\n",
    "        \n",
    "        while has_next_page:\n",
    "            for status in statuses['data']:\n",
    "                w.writerow(processFacebookPageFeedStatus(status))\n",
    "                \n",
    "                # output progress occasionally to make sure code is not stalling\n",
    "                num_processed += 1\n",
    "                if num_processed % 1000 == 0:\n",
    "                    print (\"%s Statuses Processed: %s\" % (num_processed, datetime.datetime.now()))\n",
    "                    \n",
    "            # if there is no next page, we're done.\n",
    "            if 'paging' in statuses.keys():\n",
    "                statuses = json.loads(request_until_succeed(statuses['paging']['next']))\n",
    "            else:\n",
    "                has_next_page = False\n",
    "                \n",
    "        \n",
    "        print (\"\\nDone!\\n%s Statuses Processed in %s\" % (num_processed, datetime.datetime.now() - scrape_starttime))\n",
    "\n",
    "\n",
    "scrapeFacebookPageFeedStatus(page_id, access_token)"
   ]
  }
 ],
 "metadata": {
  "anaconda-cloud": {},
  "kernelspec": {
   "display_name": "Python [conda root]",
   "language": "python",
   "name": "conda-root-py"
  },
  "language_info": {
   "codemirror_mode": {
    "name": "ipython",
    "version": 3
   },
   "file_extension": ".py",
   "mimetype": "text/x-python",
   "name": "python",
   "nbconvert_exporter": "python",
   "pygments_lexer": "ipython3",
   "version": "3.5.2"
  }
 },
 "nbformat": 4,
 "nbformat_minor": 1
}
