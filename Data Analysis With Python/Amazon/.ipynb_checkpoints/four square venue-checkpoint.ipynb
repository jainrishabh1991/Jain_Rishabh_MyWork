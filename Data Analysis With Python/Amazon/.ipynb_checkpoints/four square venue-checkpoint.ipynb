{
 "cells": [
  {
   "cell_type": "code",
   "execution_count": 23,
   "metadata": {
    "collapsed": false,
    "scrolled": true
   },
   "outputs": [],
   "source": [
    "from urllib.request import urlopen\n",
    "import json\n",
    "import urllib.request"
   ]
  },
  {
   "cell_type": "code",
   "execution_count": 94,
   "metadata": {
    "collapsed": true
   },
   "outputs": [],
   "source": [
    "url='https://api.foursquare.com/v2/venues/search?oauth_token=0PFXTBQCFSMKBOI4SDAOQZAZUEYRGEQ2QRVCEPEPIQFHEB5Z&v=20131016&ll=40.712784%2C-74.005941&limit=100&intent=checkin'"
   ]
  },
  {
   "cell_type": "code",
   "execution_count": 102,
   "metadata": {
    "collapsed": false
   },
   "outputs": [],
   "source": [
    "url='https://api.foursquare.com/v2/venues/search?oauth_token=0PFXTBQCFSMKBOI4SDAOQZAZUEYRGEQ2QRVCEPEPIQFHEB5Z&v=20161016&ll=40.712784%20%2C-74.005941&limit=500&intent=checkin&client_id=BHKIFJ4MM4CZQLCHR35ZMKM5PQMRGK2RHM53FGPR5YBMH4X4&client_secret=EDFTN411OYZYULNSUVHJMQPEX0VOOKCP5QKLXKJY0050KSXD'"
   ]
  },
  {
   "cell_type": "code",
   "execution_count": 95,
   "metadata": {
    "collapsed": false
   },
   "outputs": [],
   "source": [
    "# req = urllib.request.Request(url)\n",
    "response = urllib.request.urlopen(url).read().decode('utf8')\n",
    "data2=json.loads(response)"
   ]
  },
  {
   "cell_type": "code",
   "execution_count": 99,
   "metadata": {
    "collapsed": true
   },
   "outputs": [],
   "source": [
    "response = urllib.request.urlopen(url).read().decode('utf8')\n",
    "data3=json.loads(response)"
   ]
  },
  {
   "cell_type": "code",
   "execution_count": 103,
   "metadata": {
    "collapsed": true
   },
   "outputs": [],
   "source": [
    "response = urllib.request.urlopen(url).read().decode('utf8')\n",
    "data4=json.loads(response)"
   ]
  },
  {
   "cell_type": "code",
   "execution_count": 104,
   "metadata": {
    "collapsed": false
   },
   "outputs": [
    {
     "name": "stdout",
     "output_type": "stream",
     "text": [
      "1   New York City Hall  ------ City Hall\n",
      "2   City Hall Park  ------ Park\n",
      "3   Brooklyn Bridge  ------ Bridge\n",
      "4   MTA Subway - Brooklyn Bridge/City Hall/Chambers St (4/5/6/J/Z)  ------ Metro Station\n",
      "5   Nom  Wah Tea Parlor  ------ Asian Restaurant\n",
      "6   Lower Manhattan  ------ Neighborhood\n",
      "7   June's Fruit Cart  ------ Food Truck\n",
      "8   Spanish American Food (a.k.a. Cuchifritos)  ------ Spanish Restaurant\n",
      "9   Coffee Cart (Centre & Chambers)  ------ Food Truck\n",
      "10   NY State Legislative Office Building  ------ Office\n",
      "11   Mary's Coffee Shop  ------ Coffee Shop\n",
      "12   diptyque  ------ Perfume Shop\n",
      "13   Playing Ingress:Enlightened  ------ Athletics & Sports\n",
      "14   Pizza-deli  ------ Pizza Place\n",
      "15   $5 Shots  ------ Bar\n",
      "16   Citi Bike Station  ------ Bike Rental / Bike Share\n",
      "17   DMK Burger Bar  ------ Bar\n",
      "18   NY Gift Shop  ------ Gift Shop\n",
      "19   Bank Of America  ------ Bank\n",
      "20   Halal Food Cart  ------ Indian Restaurant\n",
      "21   The cat cafe 2  ------ Café\n",
      "22   NYC Apartment  ------ Residential Building (Apartment / Condo)\n",
      "23   19 bleecker st  ------ Building\n",
      "24   The Office of the Public Advocate for the City of New York  ------ Office\n",
      "25   P1201  ------ College Classroom\n",
      "26   Garden Of Eden  ------ Flower Shop\n",
      "27   St comunity beach  ------ Beach\n",
      "28   TriBeCa  ------ Neighborhood\n",
      "29   NYC 311 Call Center  ------ Government Building\n",
      "30   Barns & Noble at Pace University  ------ College Bookstore\n",
      "31   Pace NYC Schaeberle Theatre  ------ College Theater\n",
      "32   Lux Accessories @ Shop Small Pop-Up Mall  ------ Jewelry Store\n",
      "33   Fair harbor beach  ------ Surf Spot\n",
      "34   DCAS  ------ Government Building\n",
      "35   MTA Subway - City Hall (R/W)  ------ Metro Station\n",
      "36   MTA MaBSTOA Bus - M5 / M9 / M22 / M103 at City Hall (Park Row)  ------ Other Great Outdoors\n",
      "37   Election District 93  ------ Government Building\n",
      "38   Cloudy and Humid Day  ------ Moving Target\n",
      "39   City Hall Council Chambers  ------ City Hall\n",
      "40   Nevada Theater  ------ Multiplex\n",
      "41   Agape Park  ------ Park\n",
      "42   Tweed Courthouse  ------ Courthouse\n",
      "43   The Pace Press  ------ General College & University\n",
      "44   Up All Night  ------ Snack Place\n",
      "45   CoinBet® Online Casino & Sportsbook  ------ Casino\n",
      "46   Dante Coffee Shop  ------ Coffee Shop\n",
      "47   Breakfast & Lunch Cart  ------ Food Truck\n",
      "48   nyc taxi 9t65  ------ General Travel\n",
      "49   New York Film Academy  ------ College Classroom\n"
     ]
    }
   ],
   "source": [
    "count=1\n",
    "for x in data4['response']['venues']:\n",
    "    try:\n",
    "        print(count,\" \",x['name'],\" ------\",x['categories'][0]['name'])\n",
    "        count=count+1\n",
    "    except:\n",
    "        pass"
   ]
  },
  {
   "cell_type": "code",
   "execution_count": 100,
   "metadata": {
    "collapsed": false
   },
   "outputs": [
    {
     "name": "stdout",
     "output_type": "stream",
     "text": [
      "1   City Hall Park  ------ Park\n",
      "2   Brooklyn Bridge  ------ Bridge\n",
      "3   MTA Subway - Brooklyn Bridge/City Hall/Chambers St (4/5/6/J/Z)  ------ Metro Station\n",
      "4   Garden Of Eden  ------ Flower Shop\n",
      "5   New York City Hall  ------ City Hall\n",
      "6   Halal Food Cart  ------ Indian Restaurant\n",
      "7   Mary's Coffee Shop  ------ Coffee Shop\n",
      "8   Pizza-deli  ------ Pizza Place\n",
      "9   $5 Shots  ------ Bar\n",
      "10   June's Fruit Cart  ------ Food Truck\n",
      "11   Citi Bike Station  ------ Bike Rental / Bike Share\n",
      "12   Bank Of America  ------ Bank\n",
      "13   Nom  Wah Tea Parlor  ------ Asian Restaurant\n",
      "14   diptyque  ------ Perfume Shop\n",
      "15   NY Gift Shop  ------ Gift Shop\n",
      "16   Playing Ingress:Enlightened  ------ Athletics & Sports\n",
      "17   Spanish American Food (a.k.a. Cuchifritos)  ------ Spanish Restaurant\n",
      "18   Coffee Cart (Centre & Chambers)  ------ Food Truck\n",
      "19   Lower Manhattan  ------ Neighborhood\n",
      "20   Fair harbor beach  ------ Surf Spot\n",
      "21   NY State Legislative Office Building  ------ Office\n",
      "22   DMK Burger Bar  ------ Bar\n",
      "23   Lux Accessories @ Shop Small Pop-Up Mall  ------ Jewelry Store\n",
      "24   New York City  ------ City\n",
      "25   The cat cafe 2  ------ Café\n",
      "26   NYC Apartment  ------ Residential Building (Apartment / Condo)\n",
      "27   19 bleecker st  ------ Building\n",
      "28   St comunity beach  ------ Beach\n",
      "29   TriBeCa  ------ Neighborhood\n",
      "30   NYC 311 Call Center  ------ Government Building\n",
      "31   Barns & Noble at Pace University  ------ College Bookstore\n",
      "32   Pace NYC Schaeberle Theatre  ------ College Theater\n",
      "33   The Office of the Public Advocate for the City of New York  ------ Office\n",
      "34   DCAS  ------ Government Building\n",
      "35   Ocean Colony Beach  ------ Surf Spot\n",
      "36   MTA Subway - City Hall (R/W)  ------ Metro Station\n",
      "37   MTA MaBSTOA Bus - M5 / M9 / M22 / M103 at City Hall (Park Row)  ------ Other Great Outdoors\n",
      "38   P1201  ------ College Classroom\n",
      "39   Election District 93  ------ Government Building\n",
      "40   Cloudy and Humid Day  ------ Moving Target\n",
      "41   City Hall Council Chambers  ------ City Hall\n",
      "42   Nevada Theater  ------ Multiplex\n",
      "43   Agape Park  ------ Park\n",
      "44   Tweed Courthouse  ------ Courthouse\n",
      "45   Casinha Bonita  ------ Residential Building (Apartment / Condo)\n",
      "46   The Pace Press  ------ General College & University\n",
      "47   Up All Night  ------ Snack Place\n",
      "48   Dante Coffee Shop  ------ Coffee Shop\n",
      "49   Breakfast & Lunch Cart  ------ Food Truck\n"
     ]
    }
   ],
   "source": [
    "count=1\n",
    "for x in data3['response']['venues']:\n",
    "    try:\n",
    "        print(count,\" \",x['name'],\" ------\",x['categories'][0]['name'])\n",
    "        count=count+1\n",
    "    except:\n",
    "        pass"
   ]
  },
  {
   "cell_type": "markdown",
   "metadata": {},
   "source": [
    "https://api.foursquare.com/v2/venues/search?oauth_token=0PFXTBQCFSMKBOI4SDAOQZAZUEYRGEQ2QRVCEPEPIQFHEB5Z&v=20131016&ll=40.712784%2C-74.005941&intent=checkin"
   ]
  },
  {
   "cell_type": "code",
   "execution_count": 98,
   "metadata": {
    "collapsed": false
   },
   "outputs": [
    {
     "name": "stdout",
     "output_type": "stream",
     "text": [
      "1   New York City Hall  ------ City Hall\n",
      "2   City Hall Park  ------ Park\n",
      "3   Brooklyn Bridge  ------ Bridge\n",
      "4   Spanish American Food (a.k.a. Cuchifritos)  ------ Spanish Restaurant\n",
      "5   Mary's Coffee Shop  ------ Coffee Shop\n",
      "6   MTA Subway - Brooklyn Bridge/City Hall/Chambers St (4/5/6/J/Z)  ------ Metro Station\n",
      "7   Nom  Wah Tea Parlor  ------ Asian Restaurant\n",
      "8   Playing Ingress:Enlightened  ------ Athletics & Sports\n",
      "9   Garden Of Eden  ------ Flower Shop\n",
      "10   June's Fruit Cart  ------ Food Truck\n",
      "11   Lower Manhattan  ------ Neighborhood\n",
      "12   diptyque  ------ Perfume Shop\n",
      "13   P1201  ------ College Classroom\n",
      "14   Halal Food Cart  ------ Indian Restaurant\n",
      "15   NY Gift Shop  ------ Gift Shop\n",
      "16   TriBeCa  ------ Neighborhood\n",
      "17   DMK Burger Bar  ------ Bar\n",
      "18   $5 Shots  ------ Bar\n",
      "19   The Office of the Public Advocate for the City of New York  ------ Office\n",
      "20   Citi Bike Station  ------ Bike Rental / Bike Share\n",
      "21   Pizza-deli  ------ Pizza Place\n",
      "22   Lux Accessories @ Shop Small Pop-Up Mall  ------ Jewelry Store\n",
      "23   New York City  ------ City\n",
      "24   Bank Of America  ------ Bank\n",
      "25   The cat cafe 2  ------ Café\n",
      "26   NYC Apartment  ------ Residential Building (Apartment / Condo)\n",
      "27   19 bleecker st  ------ Building\n",
      "28   Coffee Cart (Centre & Chambers)  ------ Food Truck\n",
      "29   St comunity beach  ------ Beach\n",
      "30   NYC 311 Call Center  ------ Government Building\n",
      "31   NY State Legislative Office Building  ------ Office\n",
      "32   Barns & Noble at Pace University  ------ College Bookstore\n",
      "33   Pace NYC Schaeberle Theatre  ------ College Theater\n",
      "34   Fair harbor beach  ------ Surf Spot\n",
      "35   MTA Subway - City Hall (R/W)  ------ Metro Station\n",
      "36   DCAS  ------ Government Building\n",
      "37   MTA MaBSTOA Bus - M5 / M9 / M22 / M103 at City Hall (Park Row)  ------ Other Great Outdoors\n",
      "38   Election District 93  ------ Government Building\n",
      "39   City Hall Council Chambers  ------ City Hall\n",
      "40   Cloudy and Humid Day  ------ Moving Target\n",
      "41   Nevada Theater  ------ Multiplex\n",
      "42   Agape Park  ------ Park\n",
      "43   Tweed Courthouse  ------ Courthouse\n",
      "44   IRT Subway - City Hall (Abandoned)  ------ Museum\n",
      "45   The Pace Press  ------ General College & University\n",
      "46   Up All Night  ------ Snack Place\n",
      "47   Dante Coffee Shop  ------ Coffee Shop\n",
      "48   Breakfast & Lunch Cart  ------ Food Truck\n",
      "49   iPic Theaters at Fulton Market  ------ Movie Theater\n"
     ]
    }
   ],
   "source": [
    "# for x in data2['response']['venues']:\n",
    "#     print(x['categories'][0]['name'])\n",
    "count=1\n",
    "for x in data2['response']['venues']:\n",
    "    try:\n",
    "        print(count,\" \",x['name'],\" ------\",x['categories'][0]['name'])\n",
    "        count=count+1\n",
    "    except:\n",
    "        pass"
   ]
  },
  {
   "cell_type": "code",
   "execution_count": 81,
   "metadata": {
    "collapsed": false
   },
   "outputs": [],
   "source": [
    "with open('../Project/Collected_Data/1', 'w') as outfile:  \n",
    "    json.dump(data, outfile)"
   ]
  }
 ],
 "metadata": {
  "kernelspec": {
   "display_name": "Python [conda root]",
   "language": "python",
   "name": "conda-root-py"
  },
  "language_info": {
   "codemirror_mode": {
    "name": "ipython",
    "version": 3
   },
   "file_extension": ".py",
   "mimetype": "text/x-python",
   "name": "python",
   "nbconvert_exporter": "python",
   "pygments_lexer": "ipython3",
   "version": "3.5.2"
  }
 },
 "nbformat": 4,
 "nbformat_minor": 1
}
