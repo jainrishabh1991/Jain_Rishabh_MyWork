{
 "cells": [
  {
   "cell_type": "markdown",
   "metadata": {},
   "source": [
    "# Recommendation for brand Rubie&#39;s Costume Co"
   ]
  },
  {
   "cell_type": "code",
   "execution_count": 1,
   "metadata": {
    "collapsed": true
   },
   "outputs": [],
   "source": [
    "import glob\n",
    "import json\n",
    "import pandas as pd\n",
    "import numpy as np"
   ]
  },
  {
   "cell_type": "code",
   "execution_count": 2,
   "metadata": {
    "collapsed": false
   },
   "outputs": [],
   "source": [
    "files=glob.glob('../Project/Data/Tested_Data/*')"
   ]
  },
  {
   "cell_type": "code",
   "execution_count": 3,
   "metadata": {
    "collapsed": true
   },
   "outputs": [],
   "source": [
    "product=[]\n",
    "with open(files[0]) as data_file:\n",
    "    data=data_file.read()\n",
    "    for i in data.split('\\n'):\n",
    "        product.append(i)"
   ]
  },
  {
   "cell_type": "code",
   "execution_count": 4,
   "metadata": {
    "collapsed": true
   },
   "outputs": [],
   "source": [
    "productDataframe=[]\n",
    "x_ls=['Rubie&#39;s Costume Co']\n",
    "for x in product:\n",
    "    try:\n",
    "        y=x.replace(\"'\",'\"')\n",
    "        jdata=json.loads(y)\n",
    "        if jdata['brand'] in x_ls:\n",
    "            productDataframe.append((jdata['asin'],jdata['title'])) \n",
    "    except:\n",
    "        pass"
   ]
  },
  {
   "cell_type": "code",
   "execution_count": 5,
   "metadata": {
    "collapsed": true
   },
   "outputs": [],
   "source": [
    "Product_dataset=pd.DataFrame(productDataframe,columns=['Asin','Title'])"
   ]
  },
  {
   "cell_type": "code",
   "execution_count": 6,
   "metadata": {
    "collapsed": true
   },
   "outputs": [],
   "source": [
    "prod_List=Product_dataset.Asin.unique().tolist()"
   ]
  },
  {
   "cell_type": "code",
   "execution_count": 8,
   "metadata": {
    "collapsed": false
   },
   "outputs": [],
   "source": [
    "review=[]\n",
    "with open(files[1]) as data_file:\n",
    "    data=data_file.read()\n",
    "    for i in data.split('\\n'):\n",
    "        review.append(i)\n",
    "        \n",
    "\n",
    "reviewDataframe=[]\n",
    "for x in review:\n",
    "    try:\n",
    "        jdata=json.loads(x)\n",
    "        reviewDataframe.append((jdata['reviewerID'],jdata['asin'],jdata['overall'])) \n",
    "    except:\n",
    "        pass\n",
    "    \n",
    "    \n",
    "review_dataset=pd.DataFrame(reviewDataframe,columns=['Reviewer_ID','Asin','Rating'])    "
   ]
  },
  {
   "cell_type": "code",
   "execution_count": 9,
   "metadata": {
    "collapsed": false
   },
   "outputs": [],
   "source": [
    "Working_dataset=review_dataset[review_dataset.Asin.isin(prod_List)]"
   ]
  },
  {
   "cell_type": "code",
   "execution_count": 12,
   "metadata": {
    "collapsed": true
   },
   "outputs": [],
   "source": [
    "Working_dataset=pd.merge(Working_dataset,Product_dataset,on='Asin',how='inner')"
   ]
  },
  {
   "cell_type": "code",
   "execution_count": 13,
   "metadata": {
    "collapsed": true
   },
   "outputs": [],
   "source": [
    "Working_dataset=Working_dataset[['Reviewer_ID','Asin','Title','Rating']]"
   ]
  },
  {
   "cell_type": "code",
   "execution_count": 26,
   "metadata": {
    "collapsed": false
   },
   "outputs": [],
   "source": [
    "M=Working_dataset.pivot_table(index='Reviewer_ID',columns='Title',values='Rating')"
   ]
  },
  {
   "cell_type": "code",
   "execution_count": 44,
   "metadata": {
    "collapsed": true
   },
   "outputs": [],
   "source": [
    "def pearson(x1,x2):\n",
    "    x1_cor=x1-x1.mean()\n",
    "    x2_cor=x2-x2.mean()\n",
    "    return np.sum(x1_cor * x2_cor)/np.sqrt(np.sum(x1_cor**2) * np.sum(x2_cor**2))"
   ]
  },
  {
   "cell_type": "code",
   "execution_count": 45,
   "metadata": {
    "collapsed": true
   },
   "outputs": [],
   "source": [
    "def get_recommendations(product_id,M,num):\n",
    "    recomend=[]\n",
    "    for asin in M.columns:\n",
    "        if asin==product_id:\n",
    "            continue\n",
    "        cor=pearson(M[product_id],M[asin])\n",
    "        if np.isnan(cor):\n",
    "            continue\n",
    "        else:\n",
    "            recomend.append((asin,cor))\n",
    "    recomend.sort(key=lambda tup: tup[1],reverse=True)\n",
    "    return recomend[:num]"
   ]
  },
  {
   "cell_type": "code",
   "execution_count": 46,
   "metadata": {
    "collapsed": false
   },
   "outputs": [],
   "source": [
    "def escape(t):\n",
    "    \"\"\"HTML-escape the text in `t`.\"\"\"\n",
    "    return (t\n",
    "        .replace(\"&amp;\",\"&\").replace(\"&lt;\",\"<\").replace(\"&gt;\",\">\")\n",
    "        .replace(\"&#39;\",\"'\").replace(\"&quot;\",'\"')\n",
    "        )"
   ]
  },
  {
   "cell_type": "code",
   "execution_count": 52,
   "metadata": {
    "collapsed": false
   },
   "outputs": [
    {
     "name": "stderr",
     "output_type": "stream",
     "text": [
      "C:\\Users\\Rishabh\\Anaconda3\\lib\\site-packages\\ipykernel\\__main__.py:4: RuntimeWarning: invalid value encountered in double_scalars\n"
     ]
    }
   ],
   "source": [
    "rec=get_recommendations('300 Movie Spartan Shield',M,5)"
   ]
  },
  {
   "cell_type": "code",
   "execution_count": 55,
   "metadata": {
    "collapsed": false
   },
   "outputs": [
    {
     "name": "stdout",
     "output_type": "stream",
     "text": [
      "Product Title :  300 Movie Spartan Deluxe Vinyl Helmet  Correlation :  0.223276750636\n",
      "Product Title :  Toynk Toys - 300- Spartan Sword  Correlation :  0.0692746068005\n"
     ]
    }
   ],
   "source": [
    "for x in rec:\n",
    "    if x[1] > 0:\n",
    "        print('Product Title : ',escape(x[0]),' Correlation : ',x[1])"
   ]
  }
 ],
 "metadata": {
  "anaconda-cloud": {},
  "kernelspec": {
   "display_name": "Python [conda root]",
   "language": "python",
   "name": "conda-root-py"
  },
  "language_info": {
   "codemirror_mode": {
    "name": "ipython",
    "version": 3
   },
   "file_extension": ".py",
   "mimetype": "text/x-python",
   "name": "python",
   "nbconvert_exporter": "python",
   "pygments_lexer": "ipython3",
   "version": "3.5.2"
  }
 },
 "nbformat": 4,
 "nbformat_minor": 1
}
